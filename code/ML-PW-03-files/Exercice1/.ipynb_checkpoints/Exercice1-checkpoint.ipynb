{
 "cells": [
  {
   "cell_type": "markdown",
   "metadata": {},
   "source": [
    "# Exercice 1\n",
    "\n",
    "**auteurs : Costa Pedro, Delabays Louis, Guerne Jonathan**\n"
   ]
  },
  {
   "cell_type": "markdown",
   "metadata": {},
   "source": [
    "## Partie A Histogramme\n",
    "\n",
    "implémenter un classifieur basé sur Bayes en utilisant un histogramme pour éstimer la vraisemblance."
   ]
  },
  {
   "cell_type": "code",
   "execution_count": 2,
   "metadata": {},
   "outputs": [],
   "source": [
    "import numpy as np\n",
    "import matplotlib.pyplot as plt"
   ]
  },
  {
   "cell_type": "code",
   "execution_count": 3,
   "metadata": {},
   "outputs": [
    {
     "name": "stdout",
     "output_type": "stream",
     "text": [
      "Training set : (100, 3)\n",
      "Prior class 0 P(C0) : 0.4\n",
      "Prior class 1 P(C1) : 0.6\n"
     ]
    }
   ],
   "source": [
    "train_data = np.loadtxt('ex1-data-train.csv',delimiter=\",\")\n",
    "\n",
    "nb_data = len(train_data)\n",
    "\n",
    "print(\"Training set : {}\".format(train_data.shape))\n",
    "\n",
    "class_0 = train_data[train_data[:,2] == 0]\n",
    "class_1 = train_data[train_data[:,2] == 1]\n",
    "\n",
    "print(\"Prior class 0 P(C0) : {}\".format(len(class_0)/nb_data))\n",
    "print(\"Prior class 1 P(C1) : {}\".format(len(class_1)/nb_data))"
   ]
  },
  {
   "cell_type": "markdown",
   "metadata": {},
   "source": [
    "### Impression des histogrammes"
   ]
  },
  {
   "cell_type": "code",
   "execution_count": 4,
   "metadata": {},
   "outputs": [
    {
     "data": {
      "image/png": "[encoded data removed]",
      "text/plain": [
       "<matplotlib.figure.Figure at 0x22a3d260940>"
      ]
     },
     "metadata": {},
     "output_type": "display_data"
    }
   ],
   "source": [
    "f, axarr = plt.subplots(2,2)\n",
    "\n",
    "axarr[0, 0].set_title('X1 de la classe C0')\n",
    "axarr[0,0].hist(class_0[:,0], bins='auto', color='orange')\n",
    "\n",
    "axarr[0, 1].set_title('X2 de la classe C0')\n",
    "axarr[0,1].hist(class_0[:,1], bins='auto')\n",
    "\n",
    "axarr[1, 0].set_title('X1 de la classe C1')\n",
    "axarr[1,0].hist(class_1[:,0], bins='auto', color='orange')\n",
    "\n",
    "axarr[1,1].set_title('X2 de la classe C1')\n",
    "axarr[1,1].hist(class_1[:,1], bins='auto')\n",
    "\n",
    "f.subplots_adjust(hspace=0.6)\n",
    "\n",
    "plt.show()\n",
    "\n"
   ]
  },
  {
   "cell_type": "markdown",
   "metadata": {},
   "source": [
    "### Mesure de la vraisenblance"
   ]
  },
  {
   "cell_type": "code",
   "execution_count": 31,
   "metadata": {},
   "outputs": [
    {
     "name": "stdout",
     "output_type": "stream",
     "text": [
      "1.0\n"
     ]
    }
   ],
   "source": [
    "def likelihoodHist(x, histValues, edgeValues):\n",
    "    \"\"\"Return the likelihood of a given histogram\"\"\"\n",
    "    nb_values = np.sum(histValues)\n",
    "    \n",
    "    # if the input data is outside of the given edges \n",
    "    if x < edgeValues[0] or x > edgeValues[-1]: \n",
    "        return 0 \n",
    "    \n",
    "    # if the input is on the top edge border\n",
    "    if x == edgeValues[-1] :\n",
    "        return histValues[-1]/nb_values\n",
    "    \n",
    "    sub_edges = edgeValues[x >= edgeValues]\n",
    "    index = len(sub_edges)-1\n",
    "    return histValues[index]/nb_values\n",
    "    \n",
    "\n",
    "    \n",
    "hist,edges = np.histogram(class_0[:,0],bins='auto')\n",
    "\n",
    "print(np.sum([likelihoodHist(i,hist,edges) for i in edges[:-1]]))\n",
    "\n"
   ]
  },
  {
   "cell_type": "markdown",
   "metadata": {},
   "source": [
    "### Implémentation de la classification avec Bayes"
   ]
  },
  {
   "cell_type": "code",
   "execution_count": 64,
   "metadata": {},
   "outputs": [
    {
     "name": "stdout",
     "output_type": "stream",
     "text": [
      "Testing set : (100, 3)\n"
     ]
    }
   ],
   "source": [
    "test_data = np.loadtxt('ex1-data-test.csv',delimiter=\",\")\n",
    "\n",
    "test_data_x1 = test_data[:,0]\n",
    "test_data_x2 = test_data[:,1]\n",
    "test_data_xs = test_data[:,:2]\n",
    "\n",
    "test_data_y = test_data[:,2]\n",
    "\n",
    "print(\"Testing set : {}\".format(test_data.shape))\n",
    "\n",
    "preds = {}"
   ]
  },
  {
   "cell_type": "markdown",
   "metadata": {},
   "source": [
    "#### Uniquement les features $X_1$"
   ]
  },
  {
   "cell_type": "code",
   "execution_count": 65,
   "metadata": {},
   "outputs": [],
   "source": [
    "# get histogram of both classes\n",
    "hist_0,edges_0 = np.histogram(class_0[:,0],bins='auto')\n",
    "hist_1,edges_1 = np.histogram(class_1[:,0],bins='auto')\n",
    "\n",
    "preds['x1'] = [np.argmax([likelihoodHist(x,hist_0,edges_0),likelihoodHist(x,hist_1,edges_1)]) for x in test_data_x1]   "
   ]
  },
  {
   "cell_type": "markdown",
   "metadata": {},
   "source": [
    "#### Uniquement les features $X_2$"
   ]
  },
  {
   "cell_type": "code",
   "execution_count": 66,
   "metadata": {},
   "outputs": [],
   "source": [
    "# get histogram of both classes\n",
    "hist_0,edges_0 = np.histogram(class_0[:,1],bins='auto')\n",
    "hist_1,edges_1 = np.histogram(class_1[:,1],bins='auto')\n",
    "\n",
    "preds['x2'] = [np.argmax([likelihoodHist(x,hist_0,edges_0),likelihoodHist(x,hist_1,edges_1)]) for x in test_data_x2]   "
   ]
  },
  {
   "cell_type": "markdown",
   "metadata": {},
   "source": [
    "#### $X_1$ et $X_2$ avec hypothèse d'indépendances des features"
   ]
  },
  {
   "cell_type": "code",
   "execution_count": 67,
   "metadata": {},
   "outputs": [],
   "source": [
    "# get histogram of both classes\n",
    "hist_0x1,edges_0x1 = np.histogram(class_0[:,0],bins='auto')\n",
    "hist_0x2,edges_0x2 = np.histogram(class_0[:,1],bins='auto')\n",
    "\n",
    "hist_1x1,edges_1x1 = np.histogram(class_1[:,0],bins='auto')\n",
    "hist_1x2,edges_1x2 = np.histogram(class_1[:,1],bins='auto')\n",
    "\n",
    "preds['x1 and x2'] = [np.argmax([likelihoodHist(x,hist_0x1,edges_0x1)*likelihoodHist(y,hist_0x2,edges_0x2),\n",
    "                          likelihoodHist(x,hist_1x1,edges_1x1)*likelihoodHist(y,hist_1x2,edges_0x2)]) \n",
    "               for x,y in test_data_xs]   "
   ]
  },
  {
   "cell_type": "markdown",
   "metadata": {},
   "source": [
    "#### Calcul des performances "
   ]
  },
  {
   "cell_type": "code",
   "execution_count": 68,
   "metadata": {},
   "outputs": [
    {
     "name": "stdout",
     "output_type": "stream",
     "text": [
      "prediction using x1\n",
      "prediction using x2\n",
      "prediction using x1 and x2\n"
     ]
    }
   ],
   "source": [
    "for key, pred in preds.items():\n",
    "    \n",
    "    performance = len(test_data_y[test_data_y == pred])/len(test_data_y)\n",
    "    \n",
    "    print(\"prediction using {}\".\n",
    "          format(key))"
   ]
  },
  {
   "cell_type": "code",
   "execution_count": null,
   "metadata": {},
   "outputs": [],
   "source": []
  }
 ],
 "metadata": {
  "kernelspec": {
   "display_name": "Python 3",
   "language": "python",
   "name": "python3"
  },
  "language_info": {
   "codemirror_mode": {
    "name": "ipython",
    "version": 3
   },
   "file_extension": ".py",
   "mimetype": "text/x-python",
   "name": "python",
   "nbconvert_exporter": "python",
   "pygments_lexer": "ipython3",
   "version": "3.6.2"
  }
 },
 "nbformat": 4,
 "nbformat_minor": 2
}
