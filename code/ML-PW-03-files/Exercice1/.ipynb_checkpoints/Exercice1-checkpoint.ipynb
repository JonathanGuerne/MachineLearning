{
 "cells": [
  {
   "cell_type": "markdown",
   "metadata": {},
   "source": [
    "# Exercice 1\n",
    "\n",
    "**auteurs : Costa Pedro, Delabays Louis, Guerne Jonathan**\n"
   ]
  },
  {
   "cell_type": "markdown",
   "metadata": {},
   "source": [
    "## Partie A Histogramme\n",
    "\n",
    "implémenter un classifieur basé sur Bayes en utilisant un histogramme pour éstimer la vraisemblance."
   ]
  },
  {
   "cell_type": "code",
   "execution_count": 1,
   "metadata": {},
   "outputs": [],
   "source": [
    "import numpy as np\n",
    "import matplotlib.pyplot as plt"
   ]
  },
  {
   "cell_type": "code",
   "execution_count": 10,
   "metadata": {},
   "outputs": [
    {
     "name": "stdout",
     "output_type": "stream",
     "text": [
      "Training set : (100, 3)\n",
      "Prior class 0 P(C0) : 0.4\n",
      "Prior class 1 P(C1) : 0.6\n"
     ]
    }
   ],
   "source": [
    "train_data = np.loadtxt('ex1-data-train.csv',delimiter=\",\")\n",
    "\n",
    "nb_data = len(train_data)\n",
    "\n",
    "print(\"Training set : {}\".format(train_data.shape))\n",
    "\n",
    "class_0 = train_data[train_data[:,2] == 0]\n",
    "class_1 = train_data[train_data[:,2] == 1]\n",
    "\n",
    "print(\"Prior class 0 P(C0) : {}\".format(len(class_0)/nb_data))\n",
    "print(\"Prior class 1 P(C1) : {}\".format(len(class_1)/nb_data))"
   ]
  },
  {
   "cell_type": "code",
   "execution_count": 35,
   "metadata": {},
   "outputs": [
    {
     "data": {
      "image/png": "[encoded data removed]",
      "text/plain": [
       "<matplotlib.figure.Figure at 0x2ab65471c50>"
      ]
     },
     "metadata": {},
     "output_type": "display_data"
    }
   ],
   "source": [
    "f, axarr = plt.subplots(2,2)\n",
    "\n",
    "axarr[0, 0].set_title('X1 de la classe C0')\n",
    "axarr[0,0].hist(class_0[:,0], bins='auto', color=red)\n",
    "\n",
    "axarr[0, 1].set_title('X2 de la classe C0')\n",
    "axarr[0,1].hist(class_0[:,1], bins='auto')\n",
    "\n",
    "axarr[1, 0].set_title('X1 de la classe C1')\n",
    "axarr[1,0].hist(class_1[:,0], bins='auto')\n",
    "\n",
    "axarr[1,1].set_title('X2 de la classe C1')\n",
    "axarr[1,1].hist(class_1[:,1], bins='auto')\n",
    "\n",
    "f.subplots_adjust(hspace=0.6)\n",
    "\n",
    "plt.show()\n",
    "\n"
   ]
  },
  {
   "cell_type": "code",
   "execution_count": null,
   "metadata": {},
   "outputs": [],
   "source": []
  }
 ],
 "metadata": {
  "kernelspec": {
   "display_name": "Python 3",
   "language": "python",
   "name": "python3"
  },
  "language_info": {
   "codemirror_mode": {
    "name": "ipython",
    "version": 3
   },
   "file_extension": ".py",
   "mimetype": "text/x-python",
   "name": "python",
   "nbconvert_exporter": "python",
   "pygments_lexer": "ipython3",
   "version": "3.6.2"
  }
 },
 "nbformat": 4,
 "nbformat_minor": 2
}
