{
 "cells": [
  {
   "cell_type": "markdown",
   "metadata": {},
   "source": [
    "# Exercice 1\n",
    "**Auteurs : Pedro Costa, Louis Delabays, Jonathan Guerne**"
   ]
  },
  {
   "cell_type": "markdown",
   "metadata": {},
   "source": [
    "## Partie a)\n",
    "\n",
    "### a) import de MNSIT"
   ]
  },
  {
   "cell_type": "code",
   "execution_count": 1,
   "metadata": {},
   "outputs": [],
   "source": [
    "from sklearn import datasets\n",
    "import matplotlib.pyplot as plt\n",
    "import numpy as np\n",
    "import pandas as pd\n",
    "import os\n",
    "\n",
    "# This is a bit of magic to make matplotlib figures appear inline in the notebook\n",
    "# rather than in a new window. Also setting some parameters for display.\n",
    "%matplotlib inline\n",
    "plt.rcParams['figure.figsize'] = (10.0, 10.0) # set default size of plots\n",
    "plt.rcParams['image.interpolation'] = 'nearest'\n",
    "plt.rcParams['image.cmap'] = 'gray'"
   ]
  },
  {
   "cell_type": "code",
   "execution_count": 2,
   "metadata": {},
   "outputs": [],
   "source": [
    "# This is a method to read the MNIST dataset from a ROOT directory\n",
    "def load_MNIST(ROOT):\n",
    "  '''load all of mnist\n",
    "  training set first'''\n",
    "  Xtr = []\n",
    "  train = pd.read_csv(os.path.join(ROOT, 'mnist_train.csv'))\n",
    "  X = np.array(train.drop('label', axis=1))\n",
    "  Ytr = np.array(train['label'])\n",
    "  # With this for-loop we give the data a shape of the acctual image (28x28)\n",
    "  # instead of the shape in file (1x784)\n",
    "  for row in X:\n",
    "      Xtr.append(row.reshape(28,28))\n",
    "  # load test set second\n",
    "  Xte = []\n",
    "  test = pd.read_csv(os.path.join(ROOT, 'mnist_test.csv'))\n",
    "  X = np.array(test.drop('label', axis=1))\n",
    "  Yte = np.array(test['label'])\n",
    "  # same reshaping\n",
    "  for row in X:\n",
    "      Xte.append(row.reshape(28,28))\n",
    "  \n",
    "  return np.array(Xtr), np.array(Ytr), np.array(Xte), np.array(Yte)"
   ]
  },
  {
   "cell_type": "code",
   "execution_count": 3,
   "metadata": {},
   "outputs": [],
   "source": [
    "# Load the raw MNIST data.\n",
    "mnist_dir = 'mnist/'   \n",
    "X_train, y_train, X_test, y_test = load_MNIST(mnist_dir)"
   ]
  },
  {
   "cell_type": "markdown",
   "metadata": {},
   "source": [
    "### b) affichage de digits"
   ]
  },
  {
   "cell_type": "code",
   "execution_count": 4,
   "metadata": {},
   "outputs": [
    {
     "data": {
      "image/png": "[encoded data removed]",
      "text/plain": [
       "<Figure size 432x288 with 12 Axes>"
      ]
     },
     "metadata": {
      "needs_background": "light"
     },
     "output_type": "display_data"
    }
   ],
   "source": [
    "f, axarr = plt.subplots(3, 4)\n",
    "\n",
    "for k in range(12):\n",
    "    i = int(k % 3);\n",
    "    j = int(k / 3);\n",
    "    axarr[i, j].imshow(X_train[k])\n",
    "f.subplots_adjust(hspace=0.3)\n",
    "\n",
    "plt.show()"
   ]
  },
  {
   "cell_type": "markdown",
   "metadata": {},
   "source": [
    "### c) finalisation des ensembles d'entraînement et de test. Balancement des données "
   ]
  },
  {
   "cell_type": "code",
   "execution_count": 5,
   "metadata": {},
   "outputs": [],
   "source": [
    "def get_resize_data(y, x, number_per_label=None, reshape=False):\n",
    "    \"\"\"y => vecteur de label, x => matrice de donnee, number_per_label => nombre de valeur par label,\n",
    "    si non préciser calculé automatiquement\"\"\"\n",
    "    \n",
    "    if number_per_label is None:\n",
    "        number_per_label = min([y[y==i].shape[0] for i in range(10)])\n",
    "    ids = np.sort(np.concatenate([np.argwhere(y==i).flatten()[:number_per_label] for i in range(10)]))\n",
    "    if reshape:\n",
    "        return x[ids].reshape((number_per_label * 10,-1)),y[ids]\n",
    "    else:\n",
    "        return x[ids],y[ids]\n",
    "    "
   ]
  },
  {
   "cell_type": "code",
   "execution_count": 6,
   "metadata": {},
   "outputs": [],
   "source": [
    "# final x train et final y train\n",
    "fx_train,fy_train = get_resize_data(y_train,X_train,number_per_label = 200,reshape=True)\n",
    "\n",
    "# final x test et final y test\n",
    "fx_test, fy_test = get_resize_data(y_test,X_test, number_per_label = 100, reshape=True)"
   ]
  },
  {
   "cell_type": "markdown",
   "metadata": {},
   "source": [
    "## Partie b)"
   ]
  },
  {
   "cell_type": "code",
   "execution_count": 7,
   "metadata": {},
   "outputs": [],
   "source": [
    "import itertools\n",
    "from sklearn import svm, metrics\n",
    "from sklearn.model_selection import GridSearchCV"
   ]
  },
  {
   "cell_type": "code",
   "execution_count": 8,
   "metadata": {},
   "outputs": [],
   "source": [
    "param_grid = [\n",
    "  {'C': [1, 10, 100, 1000], 'kernel': ['linear']},\n",
    "  {'C': [1, 10, 100, 1000], 'gamma': [0.001, 0.0001], 'kernel': ['rbf','poly']}\n",
    " ]\n",
    "\n",
    "clf = svm.SVC()\n",
    "grid_clsf = GridSearchCV(estimator=clf,param_grid=param_grid)\n",
    "grid_clsf.fit(fx_train,fy_train)\n",
    "\n",
    "bst_classifier = grid_clsf.best_estimator_\n",
    "bst_params = grid_clsf.best_params_"
   ]
  },
  {
   "cell_type": "code",
   "execution_count": 9,
   "metadata": {},
   "outputs": [
    {
     "name": "stdout",
     "output_type": "stream",
     "text": [
      "             precision    recall  f1-score   support\n",
      "\n",
      "          0       0.93      0.96      0.95       100\n",
      "          1       0.87      0.99      0.93       100\n",
      "          2       0.91      0.89      0.90       100\n",
      "          3       0.91      0.78      0.84       100\n",
      "          4       0.87      0.93      0.90       100\n",
      "          5       0.86      0.88      0.87       100\n",
      "          6       0.94      0.91      0.92       100\n",
      "          7       0.88      0.91      0.90       100\n",
      "          8       0.87      0.78      0.82       100\n",
      "          9       0.91      0.91      0.91       100\n",
      "\n",
      "avg / total       0.89      0.89      0.89      1000\n",
      "\n"
     ]
    }
   ],
   "source": [
    "preds = bst_classifier.predict(fx_test)\n",
    "print(metrics.classification_report(fy_test, preds))"
   ]
  },
  {
   "cell_type": "markdown",
   "metadata": {},
   "source": [
    "## Partie d)"
   ]
  },
  {
   "cell_type": "code",
   "execution_count": 10,
   "metadata": {},
   "outputs": [
    {
     "name": "stdout",
     "output_type": "stream",
     "text": [
      "best classifier kernel : poly\n",
      "best params found : {'C': 1, 'gamma': 0.001, 'kernel': 'poly'}\n"
     ]
    }
   ],
   "source": [
    "print(\"best classifier kernel : {}\".format(bst_classifier.kernel))\n",
    "print(\"best params found : {}\".format(bst_params))"
   ]
  },
  {
   "cell_type": "code",
   "execution_count": 11,
   "metadata": {},
   "outputs": [],
   "source": [
    "cm = metrics.confusion_matrix(fy_test, preds)\n",
    "accuracy = metrics.accuracy_score(fy_test,preds)"
   ]
  },
  {
   "cell_type": "markdown",
   "metadata": {},
   "source": [
    "pour déterminer quels digits ont été le mieux/moins bien reconnu par rapport à d'autres la meilleure solution est de faire une matrice de confusion."
   ]
  },
  {
   "cell_type": "code",
   "execution_count": 12,
   "metadata": {},
   "outputs": [
    {
     "data": {
      "image/png": "[encoded data removed]",
      "text/plain": [
       "<Figure size 432x288 with 2 Axes>"
      ]
     },
     "metadata": {
      "needs_background": "light"
     },
     "output_type": "display_data"
    }
   ],
   "source": [
    "# http://scikit-learn.org/stable/auto_examples/model_selection/plot_confusion_matrix.html\n",
    "# un exemple d'affichage de matrice de confusion\n",
    "def plot_confusion_matrix(cm, classes,\n",
    "                          normalize=False,\n",
    "                          title='Confusion matrix',\n",
    "                          cmap=plt.cm.Blues):\n",
    "    \"\"\"\n",
    "    This function prints and plots the confusion matrix.\n",
    "    Normalization can be applied by setting `normalize=True`.\n",
    "    \"\"\"\n",
    "    plt.imshow(cm, interpolation='nearest', cmap=cmap)\n",
    "    plt.title(title)\n",
    "    plt.colorbar()\n",
    "    tick_marks = np.arange(len(classes))\n",
    "    plt.xticks(tick_marks, classes, rotation=45)\n",
    "    plt.yticks(tick_marks, classes)\n",
    "\n",
    "    fmt = '.2f' if normalize else 'd'\n",
    "    thresh = cm.max() / 2.\n",
    "    for i, j in itertools.product(range(cm.shape[0]), range(cm.shape[1])):\n",
    "        plt.text(j, i, format(cm[i, j], fmt),\n",
    "                 horizontalalignment=\"center\",\n",
    "                 color=\"white\" if cm[i, j] > thresh else \"black\")\n",
    "\n",
    "    plt.ylabel('True label')\n",
    "    plt.xlabel('Predicted label')\n",
    "    plt.tight_layout()\n",
    "\n",
    "\n",
    "np.set_printoptions(precision=2)\n",
    "\n",
    "# Plot non-normalized confusion matrix\n",
    "plt.figure()\n",
    "plot_confusion_matrix(cm, classes=[str(i) for i in range(10)],\n",
    "                      title='Confusion matrix, without normalization')\n",
    "\n",
    "plt.show()"
   ]
  },
  {
   "cell_type": "markdown",
   "metadata": {},
   "source": [
    "On remarque 2 classes qui ont plus de peine à être reconnu correctement : 8 et 3. Beaucoup de 8 mal classé on été confondu avec des 3 mais l'inverse n'est pas nécessairement vrai."
   ]
  },
  {
   "cell_type": "markdown",
   "metadata": {},
   "source": [
    "augementer la taille du training et testing set augemente énormément la durée du grid search. Ce qui est compréhensible quand on réléfchit à la quantité de combinaison que va devoir tester l'algorithme. Les 3 ont plutôt été confondu avec des 5. Les classes 1 et 0 sont les deux classes avec les meilleurs prédictions."
   ]
  },
  {
   "cell_type": "code",
   "execution_count": null,
   "metadata": {},
   "outputs": [],
   "source": []
  }
 ],
 "metadata": {
  "kernelspec": {
   "display_name": "Python 3",
   "language": "python",
   "name": "python3"
  },
  "language_info": {
   "codemirror_mode": {
    "name": "ipython",
    "version": 3
   },
   "file_extension": ".py",
   "mimetype": "text/x-python",
   "name": "python",
   "nbconvert_exporter": "python",
   "pygments_lexer": "ipython3",
   "version": "3.6.2"
  }
 },
 "nbformat": 4,
 "nbformat_minor": 2
}
