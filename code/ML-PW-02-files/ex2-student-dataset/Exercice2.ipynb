{
 "cells": [
  {
   "cell_type": "code",
   "execution_count": 1,
   "metadata": {},
   "outputs": [
    {
     "data": {
      "text/plain": [
       "<Figure size 640x480 with 1 Axes>"
      ]
     },
     "metadata": {},
     "output_type": "display_data"
    }
   ],
   "source": [
    "import csv\n",
    "import numpy as np\n",
    "import matplotlib.pyplot as plt\n",
    "import random\n",
    "\n",
    "train = None\n",
    "test = None\n",
    "\n",
    "# select the location of the train file and the test file in your system\n",
    "train_file = 'ex1-data-train.csv'\n",
    "test_file = 'ex1-data-test.csv'\n",
    "\n",
    "with open(train_file, newline='') as csvfile:     \n",
    "    train = np.array(list(csv.reader(csvfile, delimiter=',', quotechar='|')))\n",
    "\n",
    "with open(test_file, newline='') as csvfile:     \n",
    "    test = np.array(list(csv.reader(csvfile, delimiter=',', quotechar='|')))\n",
    "    \n",
    "X_train = train[:,:2].astype(np.float)\n",
    "Y_train = train[:,2]\n",
    "\n",
    "X_test = test[:,:2].astype(np.float)\n",
    "Y_test = test[:,2]\n",
    "\n",
    "plt.scatter(X_train[:,0], X_train[:,1], c=Y_train, alpha=0.5)\n",
    "plt.show()"
   ]
  },
  {
   "cell_type": "code",
   "execution_count": 2,
   "metadata": {},
   "outputs": [],
   "source": [
    "############DUMMY#######################\n",
    "Ydum = np.empty_like(Y_test)\n",
    "\n",
    "for i in range(len(test)):\n",
    "    if random.random() > 0.5:\n",
    "        Ydum[i] = 1\n",
    "    else:\n",
    "        Ydum[i] = 0\n",
    "\n",
    "###########END DUMMY#################### "
   ]
  },
  {
   "cell_type": "code",
   "execution_count": 3,
   "metadata": {},
   "outputs": [],
   "source": [
    "###########KNN##########################\n",
    "Yknn = np.empty_like(Y_test)\n",
    "\n",
    "for i in range(len(Y_test)):\n",
    "    \n",
    "    distances = np.sqrt(np.sum(np.power(X_train - X_test[i,:],2),axis=1))\n",
    "    min_index = np.argmin(distances)\n",
    "    Yknn[i] = Y_train[min_index]\n",
    "\n",
    "##############END KNN####################"
   ]
  },
  {
   "cell_type": "code",
   "execution_count": 4,
   "metadata": {},
   "outputs": [
    {
     "name": "stdout",
     "output_type": "stream",
     "text": [
      "Accuracy dummy : 48/100\n",
      "Accuracy KNN : 96/100\n"
     ]
    }
   ],
   "source": [
    "##########ACCURACY######################\n",
    "\n",
    "print('Accuracy dummy : {}/{}'.format(np.sum(Ydum == Y_test), len(Y_test)))\n",
    "print('Accuracy KNN : {}/{}'.format(np.sum(Yknn == Y_test), len(Y_test)))\n",
    "\n",
    "#########END ACCURACY###################"
   ]
  },
  {
   "cell_type": "code",
   "execution_count": null,
   "metadata": {},
   "outputs": [],
   "source": []
  }
 ],
 "metadata": {
  "kernelspec": {
   "display_name": "Python 3",
   "language": "python",
   "name": "python3"
  },
  "language_info": {
   "codemirror_mode": {
    "name": "ipython",
    "version": 3
   },
   "file_extension": ".py",
   "mimetype": "text/x-python",
   "name": "python",
   "nbconvert_exporter": "python",
   "pygments_lexer": "ipython3",
   "version": "3.6.2"
  }
 },
 "nbformat": 4,
 "nbformat_minor": 2
}
